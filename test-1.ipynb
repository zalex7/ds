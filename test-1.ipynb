{
 "cells": [
  {
   "cell_type": "markdown",
   "id": "944f8c71",
   "metadata": {},
   "source": [
    "# Расчет вероятности оттока клиентов\n"
   ]
  },
  {
   "cell_type": "markdown",
   "id": "c8db5bd5",
   "metadata": {},
   "source": [
    "А. Н. Зацепин"
   ]
  },
  {
   "cell_type": "markdown",
   "id": "b544fdd8",
   "metadata": {},
   "source": [
    "Аннотация: в материале продемонстрировано использование алгоритма машинного обучения \"Случайный лес\" (Random forest) в задаче прогнозирования оттока клиентов. Реализация моделирования выполнена на языке программирования Python с использованием библиотек scikit-learn, pandas, numpy."
   ]
  },
  {
   "cell_type": "markdown",
   "id": "ae45df83",
   "metadata": {},
   "source": [
    "#### Подготовка: импорт необходимых библиотек и методов, загрузка исходных данных из файла churn_utf.txt с помощью метода read_csv библиотеки pandas. "
   ]
  },
  {
   "cell_type": "code",
   "execution_count": 1,
   "id": "cb2c1a6a",
   "metadata": {
    "scrolled": false
   },
   "outputs": [],
   "source": [
    "import pandas as pd\n",
    "import numpy as np\n",
    "import matplotlib.pyplot as plt\n",
    "import itertools\n",
    "from sklearn.model_selection import train_test_split\n",
    "from sklearn.preprocessing import StandardScaler\n",
    "from sklearn.ensemble import RandomForestClassifier as Rf\n",
    "from sklearn.metrics import confusion_matrix\n",
    "from matplotlib.pylab import rc, plot\n",
    "\n",
    "churn_df = pd.read_csv('churn_utf.txt') #Загружаем исходную таблицу из файла churn_utf.txt, \n",
    "                                        #создаем структуру pandas DataFrame "
   ]
  },
  {
   "cell_type": "markdown",
   "id": "d528ef94",
   "metadata": {},
   "source": [
    "#### Анализ исходных данных."
   ]
  },
  {
   "cell_type": "markdown",
   "id": "37267f0e",
   "metadata": {},
   "source": [
    "Отображаем первые 5 строк загруженной таблицы, анализируем корректность загрузки."
   ]
  },
  {
   "cell_type": "code",
   "execution_count": 2,
   "id": "bce187f4",
   "metadata": {},
   "outputs": [
    {
     "data": {
      "text/html": [
       "<div>\n",
       "<style scoped>\n",
       "    .dataframe tbody tr th:only-of-type {\n",
       "        vertical-align: middle;\n",
       "    }\n",
       "\n",
       "    .dataframe tbody tr th {\n",
       "        vertical-align: top;\n",
       "    }\n",
       "\n",
       "    .dataframe thead th {\n",
       "        text-align: right;\n",
       "    }\n",
       "</style>\n",
       "<table border=\"1\" class=\"dataframe\">\n",
       "  <thead>\n",
       "    <tr style=\"text-align: right;\">\n",
       "      <th></th>\n",
       "      <th>Штат</th>\n",
       "      <th>Длина счета</th>\n",
       "      <th>Код зоны</th>\n",
       "      <th>Номер телефона</th>\n",
       "      <th>Услуга международных звонков</th>\n",
       "      <th>Услуга VMail</th>\n",
       "      <th>Количество VMail</th>\n",
       "      <th>Дневные минуты</th>\n",
       "      <th>Дневные звонки</th>\n",
       "      <th>Дневная оплата</th>\n",
       "      <th>Вечерние минуты</th>\n",
       "      <th>Вечерние звонки</th>\n",
       "      <th>Вечерняя оплата</th>\n",
       "      <th>Ночные минуты</th>\n",
       "      <th>Ночные звонки</th>\n",
       "      <th>Ночная оплата</th>\n",
       "      <th>Международные минуты</th>\n",
       "      <th>Международные звонки</th>\n",
       "      <th>Международная оплата</th>\n",
       "      <th>Обращений в СЦ</th>\n",
       "      <th>Уход</th>\n",
       "    </tr>\n",
       "  </thead>\n",
       "  <tbody>\n",
       "    <tr>\n",
       "      <th>0</th>\n",
       "      <td>KS</td>\n",
       "      <td>128</td>\n",
       "      <td>415</td>\n",
       "      <td>382-4657</td>\n",
       "      <td>False</td>\n",
       "      <td>True</td>\n",
       "      <td>25</td>\n",
       "      <td>265.1</td>\n",
       "      <td>110</td>\n",
       "      <td>45.07</td>\n",
       "      <td>197.4</td>\n",
       "      <td>99</td>\n",
       "      <td>16.78</td>\n",
       "      <td>244.7</td>\n",
       "      <td>91</td>\n",
       "      <td>11.01</td>\n",
       "      <td>10.0</td>\n",
       "      <td>3</td>\n",
       "      <td>2.70</td>\n",
       "      <td>1</td>\n",
       "      <td>False</td>\n",
       "    </tr>\n",
       "    <tr>\n",
       "      <th>1</th>\n",
       "      <td>OH</td>\n",
       "      <td>107</td>\n",
       "      <td>415</td>\n",
       "      <td>371-7191</td>\n",
       "      <td>False</td>\n",
       "      <td>True</td>\n",
       "      <td>26</td>\n",
       "      <td>161.6</td>\n",
       "      <td>123</td>\n",
       "      <td>27.47</td>\n",
       "      <td>195.5</td>\n",
       "      <td>103</td>\n",
       "      <td>16.62</td>\n",
       "      <td>254.4</td>\n",
       "      <td>103</td>\n",
       "      <td>11.45</td>\n",
       "      <td>13.7</td>\n",
       "      <td>3</td>\n",
       "      <td>3.70</td>\n",
       "      <td>1</td>\n",
       "      <td>False</td>\n",
       "    </tr>\n",
       "    <tr>\n",
       "      <th>2</th>\n",
       "      <td>NJ</td>\n",
       "      <td>137</td>\n",
       "      <td>415</td>\n",
       "      <td>358-1921</td>\n",
       "      <td>False</td>\n",
       "      <td>False</td>\n",
       "      <td>0</td>\n",
       "      <td>243.4</td>\n",
       "      <td>114</td>\n",
       "      <td>41.38</td>\n",
       "      <td>121.2</td>\n",
       "      <td>110</td>\n",
       "      <td>10.30</td>\n",
       "      <td>162.6</td>\n",
       "      <td>104</td>\n",
       "      <td>7.32</td>\n",
       "      <td>12.2</td>\n",
       "      <td>5</td>\n",
       "      <td>3.29</td>\n",
       "      <td>0</td>\n",
       "      <td>False</td>\n",
       "    </tr>\n",
       "    <tr>\n",
       "      <th>3</th>\n",
       "      <td>OH</td>\n",
       "      <td>84</td>\n",
       "      <td>408</td>\n",
       "      <td>375-9999</td>\n",
       "      <td>True</td>\n",
       "      <td>False</td>\n",
       "      <td>0</td>\n",
       "      <td>299.4</td>\n",
       "      <td>71</td>\n",
       "      <td>50.90</td>\n",
       "      <td>61.9</td>\n",
       "      <td>88</td>\n",
       "      <td>5.26</td>\n",
       "      <td>196.9</td>\n",
       "      <td>89</td>\n",
       "      <td>8.86</td>\n",
       "      <td>6.6</td>\n",
       "      <td>7</td>\n",
       "      <td>1.78</td>\n",
       "      <td>2</td>\n",
       "      <td>False</td>\n",
       "    </tr>\n",
       "    <tr>\n",
       "      <th>4</th>\n",
       "      <td>OK</td>\n",
       "      <td>75</td>\n",
       "      <td>415</td>\n",
       "      <td>330-6626</td>\n",
       "      <td>True</td>\n",
       "      <td>False</td>\n",
       "      <td>0</td>\n",
       "      <td>166.7</td>\n",
       "      <td>113</td>\n",
       "      <td>28.34</td>\n",
       "      <td>148.3</td>\n",
       "      <td>122</td>\n",
       "      <td>12.61</td>\n",
       "      <td>186.9</td>\n",
       "      <td>121</td>\n",
       "      <td>8.41</td>\n",
       "      <td>10.1</td>\n",
       "      <td>3</td>\n",
       "      <td>2.73</td>\n",
       "      <td>3</td>\n",
       "      <td>False</td>\n",
       "    </tr>\n",
       "  </tbody>\n",
       "</table>\n",
       "</div>"
      ],
      "text/plain": [
       "  Штат  Длина счета  Код зоны Номер телефона  Услуга международных звонков  \\\n",
       "0   KS          128       415       382-4657                         False   \n",
       "1   OH          107       415       371-7191                         False   \n",
       "2   NJ          137       415       358-1921                         False   \n",
       "3   OH           84       408       375-9999                          True   \n",
       "4   OK           75       415       330-6626                          True   \n",
       "\n",
       "   Услуга VMail  Количество VMail  Дневные минуты  Дневные звонки  \\\n",
       "0          True                25           265.1             110   \n",
       "1          True                26           161.6             123   \n",
       "2         False                 0           243.4             114   \n",
       "3         False                 0           299.4              71   \n",
       "4         False                 0           166.7             113   \n",
       "\n",
       "   Дневная оплата  Вечерние минуты  Вечерние звонки  Вечерняя оплата  \\\n",
       "0           45.07            197.4               99            16.78   \n",
       "1           27.47            195.5              103            16.62   \n",
       "2           41.38            121.2              110            10.30   \n",
       "3           50.90             61.9               88             5.26   \n",
       "4           28.34            148.3              122            12.61   \n",
       "\n",
       "   Ночные минуты  Ночные звонки  Ночная оплата  Международные минуты  \\\n",
       "0          244.7             91          11.01                  10.0   \n",
       "1          254.4            103          11.45                  13.7   \n",
       "2          162.6            104           7.32                  12.2   \n",
       "3          196.9             89           8.86                   6.6   \n",
       "4          186.9            121           8.41                  10.1   \n",
       "\n",
       "   Международные звонки  Международная оплата  Обращений в СЦ   Уход  \n",
       "0                     3                  2.70               1  False  \n",
       "1                     3                  3.70               1  False  \n",
       "2                     5                  3.29               0  False  \n",
       "3                     7                  1.78               2  False  \n",
       "4                     3                  2.73               3  False  "
      ]
     },
     "metadata": {},
     "output_type": "display_data"
    }
   ],
   "source": [
    "pd.set_option('display.max_columns', 100) # Устанавливаем опцию отображения, чтобы не скрывать столбцы при выводе \n",
    "display(churn_df.head())"
   ]
  },
  {
   "cell_type": "markdown",
   "id": "db7cef00",
   "metadata": {},
   "source": [
    "Выводим размерность загруженной таблицы"
   ]
  },
  {
   "cell_type": "code",
   "execution_count": 3,
   "id": "5cea5c63",
   "metadata": {},
   "outputs": [
    {
     "data": {
      "text/plain": [
       "(3333, 21)"
      ]
     },
     "execution_count": 3,
     "metadata": {},
     "output_type": "execute_result"
    }
   ],
   "source": [
    "churn_df.shape"
   ]
  },
  {
   "cell_type": "markdown",
   "id": "73cacb74",
   "metadata": {},
   "source": [
    "Выводим список заголовков столбцов загруженной таблицы."
   ]
  },
  {
   "cell_type": "code",
   "execution_count": 4,
   "id": "143a22d2",
   "metadata": {},
   "outputs": [
    {
     "data": {
      "text/plain": [
       "Index(['Штат', 'Длина счета', 'Код зоны', 'Номер телефона',\n",
       "       'Услуга международных звонков', 'Услуга VMail', 'Количество VMail',\n",
       "       'Дневные минуты', 'Дневные звонки', 'Дневная оплата', 'Вечерние минуты',\n",
       "       'Вечерние звонки', 'Вечерняя оплата', 'Ночные минуты', 'Ночные звонки',\n",
       "       'Ночная оплата', 'Международные минуты', 'Международные звонки',\n",
       "       'Международная оплата', 'Обращений в СЦ', 'Уход'],\n",
       "      dtype='object')"
      ]
     },
     "execution_count": 4,
     "metadata": {},
     "output_type": "execute_result"
    }
   ],
   "source": [
    "churn_df.columns"
   ]
  },
  {
   "cell_type": "markdown",
   "id": "4b0f13b6",
   "metadata": {},
   "source": [
    "Выводим общую информацию по загруженной таблице (датафрейму). При загрузке данных типы установлены корректно, дополнительные преобразования не требуются."
   ]
  },
  {
   "cell_type": "code",
   "execution_count": 5,
   "id": "12a6595c",
   "metadata": {},
   "outputs": [
    {
     "name": "stdout",
     "output_type": "stream",
     "text": [
      "<class 'pandas.core.frame.DataFrame'>\n",
      "RangeIndex: 3333 entries, 0 to 3332\n",
      "Data columns (total 21 columns):\n",
      " #   Column                        Non-Null Count  Dtype  \n",
      "---  ------                        --------------  -----  \n",
      " 0   Штат                          3333 non-null   object \n",
      " 1   Длина счета                   3333 non-null   int64  \n",
      " 2   Код зоны                      3333 non-null   int64  \n",
      " 3   Номер телефона                3333 non-null   object \n",
      " 4   Услуга международных звонков  3333 non-null   bool   \n",
      " 5   Услуга VMail                  3333 non-null   bool   \n",
      " 6   Количество VMail              3333 non-null   int64  \n",
      " 7   Дневные минуты                3333 non-null   float64\n",
      " 8   Дневные звонки                3333 non-null   int64  \n",
      " 9   Дневная оплата                3333 non-null   float64\n",
      " 10  Вечерние минуты               3333 non-null   float64\n",
      " 11  Вечерние звонки               3333 non-null   int64  \n",
      " 12  Вечерняя оплата               3333 non-null   float64\n",
      " 13  Ночные минуты                 3333 non-null   float64\n",
      " 14  Ночные звонки                 3333 non-null   int64  \n",
      " 15  Ночная оплата                 3333 non-null   float64\n",
      " 16  Международные минуты          3333 non-null   float64\n",
      " 17  Международные звонки          3333 non-null   int64  \n",
      " 18  Международная оплата          3333 non-null   float64\n",
      " 19  Обращений в СЦ                3333 non-null   int64  \n",
      " 20  Уход                          3333 non-null   bool   \n",
      "dtypes: bool(3), float64(8), int64(8), object(2)\n",
      "memory usage: 478.6+ KB\n"
     ]
    }
   ],
   "source": [
    "churn_df.info()"
   ]
  },
  {
   "cell_type": "markdown",
   "id": "fb748b07",
   "metadata": {},
   "source": [
    "#### Предварительная обработка данных"
   ]
  },
  {
   "cell_type": "markdown",
   "id": "e8eabc86",
   "metadata": {},
   "source": [
    "Разделяем исходную таблицу на две части: первая будет использована для обучения и тестирования модели, вторая имитирует дальнейшую работу с моделью пользователей: предполагается, что при последующей работе пользователи готовят данные в исходном формате о новых пользователях, для которых потребуется рассчитать вероятность ухода.\n",
    "\n",
    "Разделение выполняется с помощью метода train_test_split, позволяющего выполнить перемешивание при разделении с целью имитации разнообразия данных в тестовой выборке.  "
   ]
  },
  {
   "cell_type": "code",
   "execution_count": 6,
   "id": "73ef2f2a",
   "metadata": {},
   "outputs": [
    {
     "name": "stdout",
     "output_type": "stream",
     "text": [
      "Размерность выборки для дальнейшей обработки: (3299, 21)\n",
      "Размерность выборки для дальнейшего тестирования: (34, 21)\n"
     ]
    }
   ],
   "source": [
    "churn_df_work, churn_df_input = train_test_split(churn_df, train_size=0.99, random_state=42)\n",
    "\n",
    "# Сохраняем выделенный набор данных для дальнейшей работы, отбросив графу \"Уход\"\n",
    "churn_df_input.drop('Уход', axis=1).to_csv('test_input.csv', sep=\";\", index=False) \n",
    "\n",
    "print(\"Размерность выборки для дальнейшей обработки:\", churn_df_work.shape)\n",
    "print(\"Размерность выборки для дальнейшего тестирования:\", churn_df_input.shape)"
   ]
  },
  {
   "cell_type": "markdown",
   "id": "035af916",
   "metadata": {},
   "source": [
    "Выделяем колонку, в которой содержатся данные об уходе клиентов. Эти данные являются целевыми для моделирования. Выполняем преобразование булевого типа в целочисленный - это необходимо для дальнейшего обучения модели."
   ]
  },
  {
   "cell_type": "code",
   "execution_count": 7,
   "id": "10964d91",
   "metadata": {},
   "outputs": [
    {
     "name": "stdout",
     "output_type": "stream",
     "text": [
      "[0 0 0 0 1 0 0 0 0 0 0 0 1 1 0 0 0 1 0 0 0 1 0 0 0 0 0 0 0 0]\n"
     ]
    }
   ],
   "source": [
    "churn_result = churn_df_work['Уход']\n",
    "y = np.where(churn_result, 1, 0)\n",
    "\n",
    "print(y[:30]) # Вывести первые 30 значений для контроля"
   ]
  },
  {
   "cell_type": "markdown",
   "id": "bb35b0dd",
   "metadata": {},
   "source": [
    "Удаляем колонки, которые не требуются для дальнейшей работы"
   ]
  },
  {
   "cell_type": "code",
   "execution_count": 8,
   "id": "49fcdf81",
   "metadata": {},
   "outputs": [],
   "source": [
    "to_drop = ['Штат', 'Код зоны', 'Номер телефона', 'Уход']\n",
    "churn_feat_space = churn_df_work.drop(to_drop, axis=1)"
   ]
  },
  {
   "cell_type": "markdown",
   "id": "36371264",
   "metadata": {},
   "source": [
    "Подготавливаем входные данные для обучения модели. Выполняем преобразование всех данных к типу с плавающей точкой (необходимо для дальнейшей обработки). Выполняем нормализацию данных с помощью метода StandardScaler, приводя значение каждого признака к диапазону от 1,0 до -1,0. Это требуется для обеспечения равного веса всех признаков при обучении модели."
   ]
  },
  {
   "cell_type": "code",
   "execution_count": 9,
   "id": "fc0bb611",
   "metadata": {},
   "outputs": [
    {
     "name": "stdout",
     "output_type": "stream",
     "text": [
      "Набор признаков содержит 3299 значений для 17 признаков.\n",
      "Уникальные целевые значения: [0 1]\n"
     ]
    }
   ],
   "source": [
    "X = churn_feat_space.values.astype(float)\n",
    "\n",
    "scaler = StandardScaler()\n",
    "X = scaler.fit_transform(X)\n",
    "\n",
    "print(f\"Набор признаков содержит {X.shape[0]} значений для {X.shape[1]} признаков.\")\n",
    "print(\"Уникальные целевые значения:\", np.unique(y))"
   ]
  },
  {
   "cell_type": "markdown",
   "id": "4b39d47c",
   "metadata": {},
   "source": [
    "#### Обучение модели"
   ]
  },
  {
   "cell_type": "markdown",
   "id": "fdc1edd7",
   "metadata": {},
   "source": [
    "Библиотека scikit-learn позволяет использовать различные методы машинного обучения. В данной работе используется Random forest ( «случайный лес») — алгоритм машинного обучения, предложенный Лео Брейманом и Адель Катлер, заключающийся в использовании комитета (ансамбля) решающих деревьев. Алгоритм сочетает в себе две основные идеи: метод бэггинга Бреймана, и метод случайных подпространств, предложенный Тин Кам Хо. Алгоритм применяется для задач классификации, регрессии и кластеризации. Основная идея заключается в использовании большого ансамбля решающих деревьев, каждое из которых само по себе даёт очень невысокое качество классификации, но за счёт их большого количества результат получается хорошим.\n",
    "\n",
    "Алгоритм Random forest выбран, поскольку ряд исследований показали его преимущество для решения поставленной задачи."
   ]
  },
  {
   "cell_type": "markdown",
   "id": "e797470a",
   "metadata": {},
   "source": [
    "Выполняем разбиение подготовленных данных на обучающую и тестовую части, при этом производим стратификацию (равномерное распределение) классов данных с помощью. Далее выполняем обучение модели."
   ]
  },
  {
   "cell_type": "code",
   "execution_count": 10,
   "id": "8c24d2f3",
   "metadata": {},
   "outputs": [
    {
     "name": "stdout",
     "output_type": "stream",
     "text": [
      "Размерность выборки для обучения модели: (2309, 17)\n",
      "Размерность выборки для тестирования: (990, 17)\n"
     ]
    },
    {
     "data": {
      "text/plain": [
       "RandomForestClassifier(n_estimators=10)"
      ]
     },
     "execution_count": 10,
     "metadata": {},
     "output_type": "execute_result"
    }
   ],
   "source": [
    "X_train, X_test, y_train, y_test = train_test_split(X, y, stratify=y,  test_size=0.3, random_state=42)\n",
    "print(\"Размерность выборки для обучения модели:\", X_train.shape)\n",
    "print(\"Размерность выборки для тестирования:\", X_test.shape)\n",
    "\n",
    "rf = Rf(n_estimators=10) # Создаем объект класса RandomForestClassifier\n",
    "rf.fit(X_train, y_train) # Выполняем процедуру обучения"
   ]
  },
  {
   "cell_type": "markdown",
   "id": "aa509ebe",
   "metadata": {},
   "source": [
    "#### Исследование точности моделирования"
   ]
  },
  {
   "cell_type": "markdown",
   "id": "289656ad",
   "metadata": {},
   "source": [
    "Строим матрицу ошибок."
   ]
  },
  {
   "cell_type": "code",
   "execution_count": 11,
   "id": "d4be85eb",
   "metadata": {},
   "outputs": [
    {
     "data": {
      "image/png": "[encoded data removed]",
      "text/plain": [
       "<Figure size 720x576 with 2 Axes>"
      ]
     },
     "metadata": {
      "needs_background": "light"
     },
     "output_type": "display_data"
    }
   ],
   "source": [
    "cnf_matrix = confusion_matrix(y_test, rf.predict(X_test))\n",
    "\n",
    "plt.figure(figsize=(10, 8))\n",
    "plt.imshow(cnf_matrix, interpolation='nearest', cmap=plt.cm.Blues)\n",
    "plt.title('Матрица ошибок')\n",
    "plt.colorbar()\n",
    "classes = ['Оставшиеся', 'Ушедшие']\n",
    "tick_marks = np.arange(len(classes))\n",
    "plt.xticks(tick_marks, classes, rotation=45)\n",
    "plt.yticks(tick_marks, classes)\n",
    "thresh = cnf_matrix.max() / 2.\n",
    "for i, j in itertools.product(range(cnf_matrix.shape[0]), range(cnf_matrix.shape[1])):\n",
    "    plt.text(j, i, cnf_matrix[i, j],\n",
    "             horizontalalignment=\"center\",\n",
    "             color=\"white\" if cnf_matrix[i, j] > thresh else \"black\")\n",
    "\n",
    "plt.tight_layout()\n",
    "plt.ylabel('Истинный результат')\n",
    "plt.xlabel('Предсказанный результат')    \n",
    "font = {'size' : 15}\n",
    "plt.rc('font', **font)\n",
    "plt.savefig(\"conf_matrix.png\")\n",
    "plt.show()"
   ]
  },
  {
   "cell_type": "markdown",
   "id": "f3dd97b2",
   "metadata": {},
   "source": [
    "Оценка по метрике \"Точность классификации\"."
   ]
  },
  {
   "cell_type": "code",
   "execution_count": 12,
   "id": "ade5dd2b",
   "metadata": {},
   "outputs": [
    {
     "name": "stdout",
     "output_type": "stream",
     "text": [
      "accuracy = 0.94\n"
     ]
    }
   ],
   "source": [
    "accuracy = (cnf_matrix[0,0] + cnf_matrix[1,1])/cnf_matrix.sum()\n",
    "print(f\"accuracy = {accuracy:.2}\")"
   ]
  },
  {
   "cell_type": "markdown",
   "id": "0360b670",
   "metadata": {},
   "source": [
    "Оценка по метрике \"Точность\"."
   ]
  },
  {
   "cell_type": "code",
   "execution_count": 13,
   "id": "b0c52f79",
   "metadata": {},
   "outputs": [
    {
     "name": "stdout",
     "output_type": "stream",
     "text": [
      "precision = 0.95\n"
     ]
    }
   ],
   "source": [
    "precision = cnf_matrix[0,0] / (cnf_matrix[0,0] + cnf_matrix[1,0])\n",
    "print(f\"precision = {precision:.2}\")"
   ]
  },
  {
   "cell_type": "markdown",
   "id": "b6e4fcbe",
   "metadata": {},
   "source": [
    "Оценка по метрике \"Полнота\"."
   ]
  },
  {
   "cell_type": "code",
   "execution_count": 14,
   "id": "16611dea",
   "metadata": {},
   "outputs": [
    {
     "name": "stdout",
     "output_type": "stream",
     "text": [
      "recall = 0.99\n"
     ]
    }
   ],
   "source": [
    "recall = cnf_matrix[0,0] / (cnf_matrix[0,0] + cnf_matrix[0,1])\n",
    "print(f\"recall = {recall:.2}\")"
   ]
  },
  {
   "cell_type": "markdown",
   "id": "25027932",
   "metadata": {},
   "source": [
    "Выполним оценку предсказания вероятности ухода клиента. Выделим 10 уровней вероятности от 0 до 1."
   ]
  },
  {
   "cell_type": "code",
   "execution_count": 15,
   "id": "e9109145",
   "metadata": {},
   "outputs": [
    {
     "name": "stdout",
     "output_type": "stream",
     "text": [
      "    pred_prob  count  true_prob     delta\n",
      "0         0.0   2073   0.006753 -0.006753\n",
      "1         0.1    517   0.005803  0.094197\n",
      "2         0.2    160   0.025000  0.175000\n",
      "3         0.3     66   0.045455  0.254545\n",
      "4         0.4     24   0.541667 -0.141667\n",
      "5         0.5     34   0.794118 -0.294118\n",
      "6         0.6     42   0.904762 -0.304762\n",
      "7         0.7     67   0.940299 -0.240299\n",
      "8         0.8     78   0.987179 -0.187179\n",
      "9         0.9    111   1.000000 -0.100000\n",
      "10        1.0    127   1.000000  0.000000\n"
     ]
    }
   ],
   "source": [
    "pred_prob = rf.predict_proba(X)\n",
    "pred_churn = pred_prob[:,1]\n",
    "is_churn = y == 1\n",
    "\n",
    "# Number of times a predicted probability is assigned to an observation\n",
    "counts = pd.value_counts(pred_churn).sort_index()\n",
    "\n",
    "# calculate true probabilities\n",
    "true_prob = {}\n",
    "for prob in counts.index:\n",
    "    true_prob[prob] = np.mean(is_churn[pred_churn == prob])\n",
    "    true_prob = pd.Series(true_prob)\n",
    "\n",
    "counts = pd.concat([counts,true_prob], axis=1).reset_index()\n",
    "counts = pd.concat([counts,counts['index'] - counts[1]], axis=1)\n",
    "counts.columns = ['pred_prob', 'count', 'true_prob', 'delta']\n",
    "print(counts)"
   ]
  },
  {
   "cell_type": "markdown",
   "id": "750d93aa",
   "metadata": {},
   "source": [
    "#### Имитация работы модели с запросами пользователей"
   ]
  },
  {
   "cell_type": "markdown",
   "id": "089a419d",
   "metadata": {},
   "source": [
    "После обучения мы получили модель, позволяющую предсказывать вероятность оттока конкретных клиентов. Дальнейшее использование может происходить по следующей схеме: пользователь готовит набор исходных данных в файле CSV со структурой, аналогичной использованной ранее (за исключением графы \"Уход\", поскольку прогноз составляется в отношении действующих клиентов).\n",
    "Ранее часть исходного набора данных была сохранена в файл test_input.csv для имитации запроса пользователя системы. Выполним загрузку этих данных."
   ]
  },
  {
   "cell_type": "code",
   "execution_count": 16,
   "id": "1e04af97",
   "metadata": {},
   "outputs": [
    {
     "data": {
      "text/html": [
       "<div>\n",
       "<style scoped>\n",
       "    .dataframe tbody tr th:only-of-type {\n",
       "        vertical-align: middle;\n",
       "    }\n",
       "\n",
       "    .dataframe tbody tr th {\n",
       "        vertical-align: top;\n",
       "    }\n",
       "\n",
       "    .dataframe thead th {\n",
       "        text-align: right;\n",
       "    }\n",
       "</style>\n",
       "<table border=\"1\" class=\"dataframe\">\n",
       "  <thead>\n",
       "    <tr style=\"text-align: right;\">\n",
       "      <th></th>\n",
       "      <th>Штат</th>\n",
       "      <th>Длина счета</th>\n",
       "      <th>Код зоны</th>\n",
       "      <th>Номер телефона</th>\n",
       "      <th>Услуга международных звонков</th>\n",
       "      <th>Услуга VMail</th>\n",
       "      <th>Количество VMail</th>\n",
       "      <th>Дневные минуты</th>\n",
       "      <th>Дневные звонки</th>\n",
       "      <th>Дневная оплата</th>\n",
       "      <th>Вечерние минуты</th>\n",
       "      <th>Вечерние звонки</th>\n",
       "      <th>Вечерняя оплата</th>\n",
       "      <th>Ночные минуты</th>\n",
       "      <th>Ночные звонки</th>\n",
       "      <th>Ночная оплата</th>\n",
       "      <th>Международные минуты</th>\n",
       "      <th>Международные звонки</th>\n",
       "      <th>Международная оплата</th>\n",
       "      <th>Обращений в СЦ</th>\n",
       "    </tr>\n",
       "  </thead>\n",
       "  <tbody>\n",
       "    <tr>\n",
       "      <th>0</th>\n",
       "      <td>WY</td>\n",
       "      <td>113</td>\n",
       "      <td>510</td>\n",
       "      <td>352-6573</td>\n",
       "      <td>False</td>\n",
       "      <td>False</td>\n",
       "      <td>0</td>\n",
       "      <td>155.0</td>\n",
       "      <td>93</td>\n",
       "      <td>26.35</td>\n",
       "      <td>330.6</td>\n",
       "      <td>106</td>\n",
       "      <td>28.10</td>\n",
       "      <td>189.4</td>\n",
       "      <td>123</td>\n",
       "      <td>8.52</td>\n",
       "      <td>13.5</td>\n",
       "      <td>3</td>\n",
       "      <td>3.65</td>\n",
       "      <td>1</td>\n",
       "    </tr>\n",
       "    <tr>\n",
       "      <th>1</th>\n",
       "      <td>IL</td>\n",
       "      <td>67</td>\n",
       "      <td>415</td>\n",
       "      <td>369-4377</td>\n",
       "      <td>False</td>\n",
       "      <td>False</td>\n",
       "      <td>0</td>\n",
       "      <td>109.1</td>\n",
       "      <td>117</td>\n",
       "      <td>18.55</td>\n",
       "      <td>217.4</td>\n",
       "      <td>124</td>\n",
       "      <td>18.48</td>\n",
       "      <td>188.4</td>\n",
       "      <td>141</td>\n",
       "      <td>8.48</td>\n",
       "      <td>12.8</td>\n",
       "      <td>6</td>\n",
       "      <td>3.46</td>\n",
       "      <td>0</td>\n",
       "    </tr>\n",
       "    <tr>\n",
       "      <th>2</th>\n",
       "      <td>SD</td>\n",
       "      <td>98</td>\n",
       "      <td>415</td>\n",
       "      <td>392-2555</td>\n",
       "      <td>False</td>\n",
       "      <td>False</td>\n",
       "      <td>0</td>\n",
       "      <td>0.0</td>\n",
       "      <td>0</td>\n",
       "      <td>0.00</td>\n",
       "      <td>159.6</td>\n",
       "      <td>130</td>\n",
       "      <td>13.57</td>\n",
       "      <td>167.1</td>\n",
       "      <td>88</td>\n",
       "      <td>7.52</td>\n",
       "      <td>6.8</td>\n",
       "      <td>1</td>\n",
       "      <td>1.84</td>\n",
       "      <td>4</td>\n",
       "    </tr>\n",
       "    <tr>\n",
       "      <th>3</th>\n",
       "      <td>KY</td>\n",
       "      <td>147</td>\n",
       "      <td>408</td>\n",
       "      <td>396-2945</td>\n",
       "      <td>False</td>\n",
       "      <td>False</td>\n",
       "      <td>0</td>\n",
       "      <td>212.8</td>\n",
       "      <td>79</td>\n",
       "      <td>36.18</td>\n",
       "      <td>204.1</td>\n",
       "      <td>91</td>\n",
       "      <td>17.35</td>\n",
       "      <td>156.2</td>\n",
       "      <td>113</td>\n",
       "      <td>7.03</td>\n",
       "      <td>10.2</td>\n",
       "      <td>2</td>\n",
       "      <td>2.75</td>\n",
       "      <td>1</td>\n",
       "    </tr>\n",
       "    <tr>\n",
       "      <th>4</th>\n",
       "      <td>WY</td>\n",
       "      <td>96</td>\n",
       "      <td>408</td>\n",
       "      <td>329-2045</td>\n",
       "      <td>False</td>\n",
       "      <td>False</td>\n",
       "      <td>0</td>\n",
       "      <td>144.0</td>\n",
       "      <td>102</td>\n",
       "      <td>24.48</td>\n",
       "      <td>224.7</td>\n",
       "      <td>73</td>\n",
       "      <td>19.10</td>\n",
       "      <td>227.7</td>\n",
       "      <td>91</td>\n",
       "      <td>10.25</td>\n",
       "      <td>10.0</td>\n",
       "      <td>7</td>\n",
       "      <td>2.70</td>\n",
       "      <td>1</td>\n",
       "    </tr>\n",
       "  </tbody>\n",
       "</table>\n",
       "</div>"
      ],
      "text/plain": [
       "  Штат  Длина счета  Код зоны Номер телефона  Услуга международных звонков  \\\n",
       "0   WY          113       510       352-6573                         False   \n",
       "1   IL           67       415       369-4377                         False   \n",
       "2   SD           98       415       392-2555                         False   \n",
       "3   KY          147       408       396-2945                         False   \n",
       "4   WY           96       408       329-2045                         False   \n",
       "\n",
       "   Услуга VMail  Количество VMail  Дневные минуты  Дневные звонки  \\\n",
       "0         False                 0           155.0              93   \n",
       "1         False                 0           109.1             117   \n",
       "2         False                 0             0.0               0   \n",
       "3         False                 0           212.8              79   \n",
       "4         False                 0           144.0             102   \n",
       "\n",
       "   Дневная оплата  Вечерние минуты  Вечерние звонки  Вечерняя оплата  \\\n",
       "0           26.35            330.6              106            28.10   \n",
       "1           18.55            217.4              124            18.48   \n",
       "2            0.00            159.6              130            13.57   \n",
       "3           36.18            204.1               91            17.35   \n",
       "4           24.48            224.7               73            19.10   \n",
       "\n",
       "   Ночные минуты  Ночные звонки  Ночная оплата  Международные минуты  \\\n",
       "0          189.4            123           8.52                  13.5   \n",
       "1          188.4            141           8.48                  12.8   \n",
       "2          167.1             88           7.52                   6.8   \n",
       "3          156.2            113           7.03                  10.2   \n",
       "4          227.7             91          10.25                  10.0   \n",
       "\n",
       "   Международные звонки  Международная оплата  Обращений в СЦ  \n",
       "0                     3                  3.65               1  \n",
       "1                     6                  3.46               0  \n",
       "2                     1                  1.84               4  \n",
       "3                     2                  2.75               1  \n",
       "4                     7                  2.70               1  "
      ]
     },
     "execution_count": 16,
     "metadata": {},
     "output_type": "execute_result"
    }
   ],
   "source": [
    "churn_df_user = pd.read_csv('test_input.csv', sep=\";\")\n",
    "churn_df_user.head()"
   ]
  },
  {
   "cell_type": "markdown",
   "id": "292c0dee",
   "metadata": {},
   "source": [
    "Предобработка данных."
   ]
  },
  {
   "cell_type": "code",
   "execution_count": 17,
   "id": "e9cad205",
   "metadata": {},
   "outputs": [],
   "source": [
    "to_drop = ['Штат', 'Код зоны', 'Номер телефона']\n",
    "X = scaler.fit_transform(churn_df_user.drop(to_drop, axis=1).values.astype(float))"
   ]
  },
  {
   "cell_type": "markdown",
   "id": "f987047b",
   "metadata": {},
   "source": [
    "Готовим результаты обработки. В выходном файле содержатся данные о клиенте (Штат, Длина счета, Код зоны, Номер телефона), показатель «ценность клиента» - сумма всех платежей, взимаемых с данного клиента. В результате комбинации этой величины с вероятностью ухода клиента получается очень важный показатель: ожидаемая утраченная прибыль в случае ухода данного клиента. "
   ]
  },
  {
   "cell_type": "code",
   "execution_count": 18,
   "id": "ba0b6319",
   "metadata": {},
   "outputs": [
    {
     "data": {
      "text/html": [
       "<div>\n",
       "<style scoped>\n",
       "    .dataframe tbody tr th:only-of-type {\n",
       "        vertical-align: middle;\n",
       "    }\n",
       "\n",
       "    .dataframe tbody tr th {\n",
       "        vertical-align: top;\n",
       "    }\n",
       "\n",
       "    .dataframe thead th {\n",
       "        text-align: right;\n",
       "    }\n",
       "</style>\n",
       "<table border=\"1\" class=\"dataframe\">\n",
       "  <thead>\n",
       "    <tr style=\"text-align: right;\">\n",
       "      <th></th>\n",
       "      <th>Штат</th>\n",
       "      <th>Длина счета</th>\n",
       "      <th>Код зоны</th>\n",
       "      <th>Номер телефона</th>\n",
       "      <th>Ценность клиента</th>\n",
       "      <th>Вероятность ухода</th>\n",
       "    </tr>\n",
       "  </thead>\n",
       "  <tbody>\n",
       "    <tr>\n",
       "      <th>0</th>\n",
       "      <td>WY</td>\n",
       "      <td>113</td>\n",
       "      <td>510</td>\n",
       "      <td>352-6573</td>\n",
       "      <td>66.62</td>\n",
       "      <td>0.3</td>\n",
       "    </tr>\n",
       "    <tr>\n",
       "      <th>1</th>\n",
       "      <td>IL</td>\n",
       "      <td>67</td>\n",
       "      <td>415</td>\n",
       "      <td>369-4377</td>\n",
       "      <td>48.97</td>\n",
       "      <td>0.0</td>\n",
       "    </tr>\n",
       "    <tr>\n",
       "      <th>2</th>\n",
       "      <td>SD</td>\n",
       "      <td>98</td>\n",
       "      <td>415</td>\n",
       "      <td>392-2555</td>\n",
       "      <td>22.93</td>\n",
       "      <td>1.0</td>\n",
       "    </tr>\n",
       "    <tr>\n",
       "      <th>3</th>\n",
       "      <td>KY</td>\n",
       "      <td>147</td>\n",
       "      <td>408</td>\n",
       "      <td>396-2945</td>\n",
       "      <td>63.31</td>\n",
       "      <td>0.1</td>\n",
       "    </tr>\n",
       "    <tr>\n",
       "      <th>4</th>\n",
       "      <td>WY</td>\n",
       "      <td>96</td>\n",
       "      <td>408</td>\n",
       "      <td>329-2045</td>\n",
       "      <td>56.53</td>\n",
       "      <td>0.0</td>\n",
       "    </tr>\n",
       "    <tr>\n",
       "      <th>5</th>\n",
       "      <td>DC</td>\n",
       "      <td>119</td>\n",
       "      <td>408</td>\n",
       "      <td>418-7478</td>\n",
       "      <td>49.46</td>\n",
       "      <td>0.2</td>\n",
       "    </tr>\n",
       "    <tr>\n",
       "      <th>6</th>\n",
       "      <td>AR</td>\n",
       "      <td>116</td>\n",
       "      <td>510</td>\n",
       "      <td>409-5519</td>\n",
       "      <td>54.96</td>\n",
       "      <td>0.1</td>\n",
       "    </tr>\n",
       "    <tr>\n",
       "      <th>7</th>\n",
       "      <td>WY</td>\n",
       "      <td>114</td>\n",
       "      <td>415</td>\n",
       "      <td>403-7775</td>\n",
       "      <td>50.33</td>\n",
       "      <td>0.0</td>\n",
       "    </tr>\n",
       "    <tr>\n",
       "      <th>8</th>\n",
       "      <td>MS</td>\n",
       "      <td>130</td>\n",
       "      <td>510</td>\n",
       "      <td>347-3895</td>\n",
       "      <td>60.19</td>\n",
       "      <td>0.1</td>\n",
       "    </tr>\n",
       "    <tr>\n",
       "      <th>9</th>\n",
       "      <td>WY</td>\n",
       "      <td>78</td>\n",
       "      <td>415</td>\n",
       "      <td>399-6259</td>\n",
       "      <td>52.91</td>\n",
       "      <td>0.0</td>\n",
       "    </tr>\n",
       "    <tr>\n",
       "      <th>10</th>\n",
       "      <td>NM</td>\n",
       "      <td>182</td>\n",
       "      <td>415</td>\n",
       "      <td>382-7999</td>\n",
       "      <td>44.64</td>\n",
       "      <td>0.0</td>\n",
       "    </tr>\n",
       "    <tr>\n",
       "      <th>11</th>\n",
       "      <td>KS</td>\n",
       "      <td>43</td>\n",
       "      <td>415</td>\n",
       "      <td>381-9367</td>\n",
       "      <td>33.74</td>\n",
       "      <td>0.0</td>\n",
       "    </tr>\n",
       "    <tr>\n",
       "      <th>12</th>\n",
       "      <td>TX</td>\n",
       "      <td>152</td>\n",
       "      <td>415</td>\n",
       "      <td>422-1799</td>\n",
       "      <td>56.66</td>\n",
       "      <td>0.0</td>\n",
       "    </tr>\n",
       "    <tr>\n",
       "      <th>13</th>\n",
       "      <td>NV</td>\n",
       "      <td>115</td>\n",
       "      <td>415</td>\n",
       "      <td>334-5029</td>\n",
       "      <td>76.64</td>\n",
       "      <td>0.5</td>\n",
       "    </tr>\n",
       "    <tr>\n",
       "      <th>14</th>\n",
       "      <td>ID</td>\n",
       "      <td>122</td>\n",
       "      <td>510</td>\n",
       "      <td>382-7993</td>\n",
       "      <td>75.61</td>\n",
       "      <td>0.1</td>\n",
       "    </tr>\n",
       "    <tr>\n",
       "      <th>15</th>\n",
       "      <td>PA</td>\n",
       "      <td>69</td>\n",
       "      <td>415</td>\n",
       "      <td>390-5686</td>\n",
       "      <td>70.51</td>\n",
       "      <td>0.0</td>\n",
       "    </tr>\n",
       "    <tr>\n",
       "      <th>16</th>\n",
       "      <td>OR</td>\n",
       "      <td>12</td>\n",
       "      <td>415</td>\n",
       "      <td>378-4179</td>\n",
       "      <td>63.68</td>\n",
       "      <td>0.1</td>\n",
       "    </tr>\n",
       "    <tr>\n",
       "      <th>17</th>\n",
       "      <td>NJ</td>\n",
       "      <td>24</td>\n",
       "      <td>408</td>\n",
       "      <td>393-7826</td>\n",
       "      <td>74.11</td>\n",
       "      <td>0.0</td>\n",
       "    </tr>\n",
       "    <tr>\n",
       "      <th>18</th>\n",
       "      <td>CO</td>\n",
       "      <td>68</td>\n",
       "      <td>408</td>\n",
       "      <td>338-9398</td>\n",
       "      <td>67.25</td>\n",
       "      <td>0.1</td>\n",
       "    </tr>\n",
       "    <tr>\n",
       "      <th>19</th>\n",
       "      <td>HI</td>\n",
       "      <td>104</td>\n",
       "      <td>408</td>\n",
       "      <td>353-6482</td>\n",
       "      <td>53.91</td>\n",
       "      <td>0.0</td>\n",
       "    </tr>\n",
       "    <tr>\n",
       "      <th>20</th>\n",
       "      <td>WY</td>\n",
       "      <td>33</td>\n",
       "      <td>415</td>\n",
       "      <td>331-3202</td>\n",
       "      <td>66.08</td>\n",
       "      <td>0.0</td>\n",
       "    </tr>\n",
       "    <tr>\n",
       "      <th>21</th>\n",
       "      <td>FL</td>\n",
       "      <td>31</td>\n",
       "      <td>510</td>\n",
       "      <td>402-3634</td>\n",
       "      <td>56.72</td>\n",
       "      <td>0.0</td>\n",
       "    </tr>\n",
       "    <tr>\n",
       "      <th>22</th>\n",
       "      <td>WV</td>\n",
       "      <td>154</td>\n",
       "      <td>408</td>\n",
       "      <td>401-4778</td>\n",
       "      <td>37.44</td>\n",
       "      <td>0.2</td>\n",
       "    </tr>\n",
       "    <tr>\n",
       "      <th>23</th>\n",
       "      <td>WV</td>\n",
       "      <td>48</td>\n",
       "      <td>408</td>\n",
       "      <td>408-3269</td>\n",
       "      <td>71.38</td>\n",
       "      <td>0.2</td>\n",
       "    </tr>\n",
       "    <tr>\n",
       "      <th>24</th>\n",
       "      <td>NV</td>\n",
       "      <td>93</td>\n",
       "      <td>408</td>\n",
       "      <td>335-3880</td>\n",
       "      <td>46.84</td>\n",
       "      <td>0.0</td>\n",
       "    </tr>\n",
       "    <tr>\n",
       "      <th>25</th>\n",
       "      <td>NE</td>\n",
       "      <td>86</td>\n",
       "      <td>510</td>\n",
       "      <td>356-4832</td>\n",
       "      <td>55.88</td>\n",
       "      <td>0.1</td>\n",
       "    </tr>\n",
       "    <tr>\n",
       "      <th>26</th>\n",
       "      <td>ND</td>\n",
       "      <td>101</td>\n",
       "      <td>415</td>\n",
       "      <td>379-4583</td>\n",
       "      <td>53.24</td>\n",
       "      <td>0.1</td>\n",
       "    </tr>\n",
       "    <tr>\n",
       "      <th>27</th>\n",
       "      <td>CT</td>\n",
       "      <td>50</td>\n",
       "      <td>408</td>\n",
       "      <td>351-9037</td>\n",
       "      <td>71.58</td>\n",
       "      <td>0.0</td>\n",
       "    </tr>\n",
       "    <tr>\n",
       "      <th>28</th>\n",
       "      <td>GA</td>\n",
       "      <td>74</td>\n",
       "      <td>510</td>\n",
       "      <td>340-8245</td>\n",
       "      <td>71.01</td>\n",
       "      <td>0.1</td>\n",
       "    </tr>\n",
       "    <tr>\n",
       "      <th>29</th>\n",
       "      <td>OR</td>\n",
       "      <td>165</td>\n",
       "      <td>415</td>\n",
       "      <td>343-3356</td>\n",
       "      <td>66.50</td>\n",
       "      <td>0.1</td>\n",
       "    </tr>\n",
       "    <tr>\n",
       "      <th>30</th>\n",
       "      <td>NJ</td>\n",
       "      <td>92</td>\n",
       "      <td>510</td>\n",
       "      <td>420-8242</td>\n",
       "      <td>56.07</td>\n",
       "      <td>0.0</td>\n",
       "    </tr>\n",
       "    <tr>\n",
       "      <th>31</th>\n",
       "      <td>IN</td>\n",
       "      <td>60</td>\n",
       "      <td>408</td>\n",
       "      <td>420-5645</td>\n",
       "      <td>68.49</td>\n",
       "      <td>0.1</td>\n",
       "    </tr>\n",
       "    <tr>\n",
       "      <th>32</th>\n",
       "      <td>FL</td>\n",
       "      <td>58</td>\n",
       "      <td>510</td>\n",
       "      <td>363-1560</td>\n",
       "      <td>59.70</td>\n",
       "      <td>0.2</td>\n",
       "    </tr>\n",
       "    <tr>\n",
       "      <th>33</th>\n",
       "      <td>HI</td>\n",
       "      <td>105</td>\n",
       "      <td>510</td>\n",
       "      <td>364-8128</td>\n",
       "      <td>57.50</td>\n",
       "      <td>0.0</td>\n",
       "    </tr>\n",
       "  </tbody>\n",
       "</table>\n",
       "</div>"
      ],
      "text/plain": [
       "   Штат  Длина счета  Код зоны Номер телефона  Ценность клиента  \\\n",
       "0    WY          113       510       352-6573             66.62   \n",
       "1    IL           67       415       369-4377             48.97   \n",
       "2    SD           98       415       392-2555             22.93   \n",
       "3    KY          147       408       396-2945             63.31   \n",
       "4    WY           96       408       329-2045             56.53   \n",
       "5    DC          119       408       418-7478             49.46   \n",
       "6    AR          116       510       409-5519             54.96   \n",
       "7    WY          114       415       403-7775             50.33   \n",
       "8    MS          130       510       347-3895             60.19   \n",
       "9    WY           78       415       399-6259             52.91   \n",
       "10   NM          182       415       382-7999             44.64   \n",
       "11   KS           43       415       381-9367             33.74   \n",
       "12   TX          152       415       422-1799             56.66   \n",
       "13   NV          115       415       334-5029             76.64   \n",
       "14   ID          122       510       382-7993             75.61   \n",
       "15   PA           69       415       390-5686             70.51   \n",
       "16   OR           12       415       378-4179             63.68   \n",
       "17   NJ           24       408       393-7826             74.11   \n",
       "18   CO           68       408       338-9398             67.25   \n",
       "19   HI          104       408       353-6482             53.91   \n",
       "20   WY           33       415       331-3202             66.08   \n",
       "21   FL           31       510       402-3634             56.72   \n",
       "22   WV          154       408       401-4778             37.44   \n",
       "23   WV           48       408       408-3269             71.38   \n",
       "24   NV           93       408       335-3880             46.84   \n",
       "25   NE           86       510       356-4832             55.88   \n",
       "26   ND          101       415       379-4583             53.24   \n",
       "27   CT           50       408       351-9037             71.58   \n",
       "28   GA           74       510       340-8245             71.01   \n",
       "29   OR          165       415       343-3356             66.50   \n",
       "30   NJ           92       510       420-8242             56.07   \n",
       "31   IN           60       408       420-5645             68.49   \n",
       "32   FL           58       510       363-1560             59.70   \n",
       "33   HI          105       510       364-8128             57.50   \n",
       "\n",
       "    Вероятность ухода  \n",
       "0                 0.3  \n",
       "1                 0.0  \n",
       "2                 1.0  \n",
       "3                 0.1  \n",
       "4                 0.0  \n",
       "5                 0.2  \n",
       "6                 0.1  \n",
       "7                 0.0  \n",
       "8                 0.1  \n",
       "9                 0.0  \n",
       "10                0.0  \n",
       "11                0.0  \n",
       "12                0.0  \n",
       "13                0.5  \n",
       "14                0.1  \n",
       "15                0.0  \n",
       "16                0.1  \n",
       "17                0.0  \n",
       "18                0.1  \n",
       "19                0.0  \n",
       "20                0.0  \n",
       "21                0.0  \n",
       "22                0.2  \n",
       "23                0.2  \n",
       "24                0.0  \n",
       "25                0.1  \n",
       "26                0.1  \n",
       "27                0.0  \n",
       "28                0.1  \n",
       "29                0.1  \n",
       "30                0.0  \n",
       "31                0.1  \n",
       "32                0.2  \n",
       "33                0.0  "
      ]
     },
     "execution_count": 18,
     "metadata": {},
     "output_type": "execute_result"
    }
   ],
   "source": [
    "pred_user_prob = rf.predict_proba(X)[:,1]\n",
    "response = churn_df_user[['Штат','Длина счета', 'Код зоны', 'Номер телефона']]\n",
    "charges = ['Дневная оплата','Вечерняя оплата','Ночная оплата','Международная оплата']\n",
    "response.insert(4,'Ценность клиента', round(churn_df_user[charges].sum(axis=1), 2))\n",
    "response.insert(5,'Вероятность ухода', pred_user_prob)\n",
    "response"
   ]
  },
  {
   "cell_type": "markdown",
   "id": "0e950ee9",
   "metadata": {},
   "source": [
    "Сохраняем результаты отсортированные по вероятности ухода в файл test_output.csv."
   ]
  },
  {
   "cell_type": "code",
   "execution_count": 19,
   "id": "61b004bc",
   "metadata": {},
   "outputs": [],
   "source": [
    "response.sort_values('Вероятность ухода', ascending=False).to_csv('test_output.csv', sep=\";\", index=False)"
   ]
  }
 ],
 "metadata": {
  "kernelspec": {
   "display_name": "Python 3 (ipykernel)",
   "language": "python",
   "name": "python3"
  },
  "language_info": {
   "codemirror_mode": {
    "name": "ipython",
    "version": 3
   },
   "file_extension": ".py",
   "mimetype": "text/x-python",
   "name": "python",
   "nbconvert_exporter": "python",
   "pygments_lexer": "ipython3",
   "version": "3.9.7"
  }
 },
 "nbformat": 4,
 "nbformat_minor": 5
}
